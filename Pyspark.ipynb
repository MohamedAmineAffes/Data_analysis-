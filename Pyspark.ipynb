{
 "cells": [
  {
   "cell_type": "code",
   "execution_count": 3,
   "id": "6686f86e",
   "metadata": {},
   "outputs": [],
   "source": [
    "import pyspark\n",
    "from pyspark.sql import SparkSession"
   ]
  },
  {
   "cell_type": "code",
   "execution_count": 4,
   "id": "1795a8fe",
   "metadata": {},
   "outputs": [
    {
     "name": "stderr",
     "output_type": "stream",
     "text": [
      "25/03/14 16:32:17 WARN Utils: Your hostname, affes-GF63-Thin-11SC resolves to a loopback address: 127.0.1.1; using 192.168.0.9 instead (on interface wlo1)\n",
      "25/03/14 16:32:17 WARN Utils: Set SPARK_LOCAL_IP if you need to bind to another address\n",
      "Setting default log level to \"WARN\".\n",
      "To adjust logging level use sc.setLogLevel(newLevel). For SparkR, use setLogLevel(newLevel).\n",
      "25/03/14 16:32:17 WARN NativeCodeLoader: Unable to load native-hadoop library for your platform... using builtin-java classes where applicable\n"
     ]
    }
   ],
   "source": [
    "spark=SparkSession.builder.appName('Analyse').getOrCreate()"
   ]
  },
  {
   "cell_type": "code",
   "execution_count": 5,
   "id": "38ad996b",
   "metadata": {},
   "outputs": [
    {
     "data": {
      "text/html": [
       "\n",
       "            <div>\n",
       "                <p><b>SparkSession - in-memory</b></p>\n",
       "                \n",
       "        <div>\n",
       "            <p><b>SparkContext</b></p>\n",
       "\n",
       "            <p><a href=\"http://192.168.0.9:4040\">Spark UI</a></p>\n",
       "\n",
       "            <dl>\n",
       "              <dt>Version</dt>\n",
       "                <dd><code>v3.5.5</code></dd>\n",
       "              <dt>Master</dt>\n",
       "                <dd><code>local[*]</code></dd>\n",
       "              <dt>AppName</dt>\n",
       "                <dd><code>Analyse</code></dd>\n",
       "            </dl>\n",
       "        </div>\n",
       "        \n",
       "            </div>\n",
       "        "
      ],
      "text/plain": [
       "<pyspark.sql.session.SparkSession at 0x711e09fc61d0>"
      ]
     },
     "execution_count": 5,
     "metadata": {},
     "output_type": "execute_result"
    }
   ],
   "source": [
    "spark"
   ]
  },
  {
   "cell_type": "code",
   "execution_count": 6,
   "id": "cb448233",
   "metadata": {},
   "outputs": [],
   "source": [
    "df_pyspark=spark.read.option('header','true').csv('big4_financial_risk_compliance.csv')"
   ]
  },
  {
   "cell_type": "code",
   "execution_count": 7,
   "id": "83cbd540",
   "metadata": {},
   "outputs": [
    {
     "data": {
      "text/plain": [
       "pyspark.sql.dataframe.DataFrame"
      ]
     },
     "execution_count": 7,
     "metadata": {},
     "output_type": "execute_result"
    }
   ],
   "source": [
    "type(df_pyspark)"
   ]
  },
  {
   "cell_type": "code",
   "execution_count": 8,
   "id": "73fdb5aa",
   "metadata": {},
   "outputs": [
    {
     "data": {
      "text/plain": [
       "DataFrame[Year: string, Firm_Name: string, Total_Audit_Engagements: string, High_Risk_Cases: string, Compliance_Violations: string, Fraud_Cases_Detected: string, Industry_Affected: string, Total_Revenue_Impact: string, AI_Used_for_Auditing: string, Employee_Workload: string, Audit_Effectiveness_Score: string, Client_Satisfaction_Score: string]"
      ]
     },
     "execution_count": 8,
     "metadata": {},
     "output_type": "execute_result"
    }
   ],
   "source": [
    "df_pyspark"
   ]
  },
  {
   "cell_type": "code",
   "execution_count": 9,
   "id": "cdf0644b",
   "metadata": {},
   "outputs": [
    {
     "name": "stdout",
     "output_type": "stream",
     "text": [
      "root\n",
      " |-- Year: string (nullable = true)\n",
      " |-- Firm_Name: string (nullable = true)\n",
      " |-- Total_Audit_Engagements: string (nullable = true)\n",
      " |-- High_Risk_Cases: string (nullable = true)\n",
      " |-- Compliance_Violations: string (nullable = true)\n",
      " |-- Fraud_Cases_Detected: string (nullable = true)\n",
      " |-- Industry_Affected: string (nullable = true)\n",
      " |-- Total_Revenue_Impact: string (nullable = true)\n",
      " |-- AI_Used_for_Auditing: string (nullable = true)\n",
      " |-- Employee_Workload: string (nullable = true)\n",
      " |-- Audit_Effectiveness_Score: string (nullable = true)\n",
      " |-- Client_Satisfaction_Score: string (nullable = true)\n",
      "\n"
     ]
    }
   ],
   "source": [
    "df_pyspark.printSchema()"
   ]
  },
  {
   "cell_type": "code",
   "execution_count": 10,
   "id": "265afcd6",
   "metadata": {},
   "outputs": [
    {
     "name": "stdout",
     "output_type": "stream",
     "text": [
      "+----+---------+-----------------------+---------------+---------------------+--------------------+-----------------+--------------------+--------------------+-----------------+-------------------------+-------------------------+\n",
      "|Year|Firm_Name|Total_Audit_Engagements|High_Risk_Cases|Compliance_Violations|Fraud_Cases_Detected|Industry_Affected|Total_Revenue_Impact|AI_Used_for_Auditing|Employee_Workload|Audit_Effectiveness_Score|Client_Satisfaction_Score|\n",
      "+----+---------+-----------------------+---------------+---------------------+--------------------+-----------------+--------------------+--------------------+-----------------+-------------------------+-------------------------+\n",
      "|2020|PwC      |2829                   |51             |123                  |39                  |Healthcare       |114.24              |No                  |57               |5.8                      |8.4                      |\n",
      "|2022|Deloitte |3589                   |185            |30                   |60                  |Healthcare       |156.98              |Yes                 |58               |5.3                      |6.7                      |\n",
      "|2020|PwC      |2438                   |212            |124                  |97                  |Healthcare       |131.83              |No                  |76               |6.1                      |6.2                      |\n",
      "+----+---------+-----------------------+---------------+---------------------+--------------------+-----------------+--------------------+--------------------+-----------------+-------------------------+-------------------------+\n",
      "only showing top 3 rows\n",
      "\n"
     ]
    }
   ],
   "source": [
    "df_pyspark.show(3,truncate=False)"
   ]
  },
  {
   "cell_type": "code",
   "execution_count": 11,
   "id": "f2337579",
   "metadata": {},
   "outputs": [
    {
     "data": {
      "text/plain": [
       "['Year',\n",
       " 'Firm_Name',\n",
       " 'Total_Audit_Engagements',\n",
       " 'High_Risk_Cases',\n",
       " 'Compliance_Violations',\n",
       " 'Fraud_Cases_Detected',\n",
       " 'Industry_Affected',\n",
       " 'Total_Revenue_Impact',\n",
       " 'AI_Used_for_Auditing',\n",
       " 'Employee_Workload',\n",
       " 'Audit_Effectiveness_Score',\n",
       " 'Client_Satisfaction_Score']"
      ]
     },
     "execution_count": 11,
     "metadata": {},
     "output_type": "execute_result"
    }
   ],
   "source": [
    "df_pyspark.columns"
   ]
  },
  {
   "cell_type": "code",
   "execution_count": 12,
   "id": "80b4e7e9",
   "metadata": {},
   "outputs": [
    {
     "data": {
      "text/plain": [
       "[('Year', 'string'),\n",
       " ('Firm_Name', 'string'),\n",
       " ('Total_Audit_Engagements', 'string'),\n",
       " ('High_Risk_Cases', 'string'),\n",
       " ('Compliance_Violations', 'string'),\n",
       " ('Fraud_Cases_Detected', 'string'),\n",
       " ('Industry_Affected', 'string'),\n",
       " ('Total_Revenue_Impact', 'string'),\n",
       " ('AI_Used_for_Auditing', 'string'),\n",
       " ('Employee_Workload', 'string'),\n",
       " ('Audit_Effectiveness_Score', 'string'),\n",
       " ('Client_Satisfaction_Score', 'string')]"
      ]
     },
     "execution_count": 12,
     "metadata": {},
     "output_type": "execute_result"
    }
   ],
   "source": [
    "df_pyspark.dtypes"
   ]
  },
  {
   "cell_type": "code",
   "execution_count": 13,
   "id": "84a39cf1",
   "metadata": {},
   "outputs": [],
   "source": [
    "df_pyspark=df_pyspark.drop(*['Industry_Affected','Total_Revenue_Impact','AI_Used_for_Auditing','Employee_Workload','Audit_Effectiveness_Score','Client_Satisfaction_Score'])"
   ]
  },
  {
   "cell_type": "code",
   "execution_count": 14,
   "id": "93778752",
   "metadata": {},
   "outputs": [
    {
     "name": "stdout",
     "output_type": "stream",
     "text": [
      "+----+-------------+-----------------------+---------------+---------------------+--------------------+\n",
      "|Year|    Firm_Name|Total_Audit_Engagements|High_Risk_Cases|Compliance_Violations|Fraud_Cases_Detected|\n",
      "+----+-------------+-----------------------+---------------+---------------------+--------------------+\n",
      "|2020|          PwC|                   2829|             51|                  123|                  39|\n",
      "|2022|     Deloitte|                   3589|            185|                   30|                  60|\n",
      "|2020|          PwC|                   2438|            212|                  124|                  97|\n",
      "|2021|          PwC|                   2646|            397|                   55|                  97|\n",
      "|2020|          PwC|                   2680|            216|                   99|                  46|\n",
      "|2023|     Deloitte|                    818|            448|                   10|                  30|\n",
      "|2022|     Deloitte|                   1199|            148|                  114|                  11|\n",
      "|2020|          PwC|                   4092|            500|                  152|                  69|\n",
      "|2021|          PwC|                   4156|            362|                   53|                  95|\n",
      "|2021|Ernst & Young|                   2490|             74|                  144|                  22|\n",
      "|2020|         KPMG|                   1497|            330|                   10|                  10|\n",
      "|2024|Ernst & Young|                   2712|            408|                  186|                  61|\n",
      "|2024|     Deloitte|                   2885|            469|                  125|                  92|\n",
      "|2023|          PwC|                   2267|            164|                  125|                  42|\n",
      "|2020|          PwC|                   2333|            358|                   48|                  17|\n",
      "|2021|     Deloitte|                   3490|            127|                   17|                  62|\n",
      "|2020|Ernst & Young|                   3264|            435|                   82|                  18|\n",
      "|2022|     Deloitte|                   4813|            249|                   81|                  64|\n",
      "|2022|     Deloitte|                   2804|            273|                   87|                  36|\n",
      "|2021|         KPMG|                   2239|             78|                   30|                  14|\n",
      "+----+-------------+-----------------------+---------------+---------------------+--------------------+\n",
      "only showing top 20 rows\n",
      "\n"
     ]
    }
   ],
   "source": [
    "df_pyspark.show()"
   ]
  },
  {
   "cell_type": "code",
   "execution_count": 15,
   "id": "7a77ff10",
   "metadata": {},
   "outputs": [
    {
     "name": "stdout",
     "output_type": "stream",
     "text": [
      "+----+-------------+-----------------------+---------------+---------------------+--------------------+\n",
      "|Year|    Firm_Name|Total_Audit_Engagements|High_Risk_Cases|Compliance_Violations|Fraud_Cases_Detected|\n",
      "+----+-------------+-----------------------+---------------+---------------------+--------------------+\n",
      "|2020|          PwC|                   2829|             51|                  123|                  39|\n",
      "|2022|     Deloitte|                   3589|            185|                   30|                  60|\n",
      "|2020|          PwC|                   2438|            212|                  124|                  97|\n",
      "|2021|          PwC|                   2646|            397|                   55|                  97|\n",
      "|2020|          PwC|                   2680|            216|                   99|                  46|\n",
      "|2023|     Deloitte|                    818|            448|                   10|                  30|\n",
      "|2022|     Deloitte|                   1199|            148|                  114|                  11|\n",
      "|2020|          PwC|                   4092|            500|                  152|                  69|\n",
      "|2021|          PwC|                   4156|            362|                   53|                  95|\n",
      "|2021|Ernst & Young|                   2490|             74|                  144|                  22|\n",
      "|2020|         KPMG|                   1497|            330|                   10|                  10|\n",
      "|2024|Ernst & Young|                   2712|            408|                  186|                  61|\n",
      "|2024|     Deloitte|                   2885|            469|                  125|                  92|\n",
      "|2023|          PwC|                   2267|            164|                  125|                  42|\n",
      "|2020|          PwC|                   2333|            358|                   48|                  17|\n",
      "|2021|     Deloitte|                   3490|            127|                   17|                  62|\n",
      "|2020|Ernst & Young|                   3264|            435|                   82|                  18|\n",
      "|2022|     Deloitte|                   4813|            249|                   81|                  64|\n",
      "|2022|     Deloitte|                   2804|            273|                   87|                  36|\n",
      "|2021|         KPMG|                   2239|             78|                   30|                  14|\n",
      "+----+-------------+-----------------------+---------------+---------------------+--------------------+\n",
      "only showing top 20 rows\n",
      "\n"
     ]
    }
   ],
   "source": [
    "df_pyspark=df_pyspark.na.drop(how='any', subset=['Firm_Name']).show() #Delete any ligne where firmName is null"
   ]
  },
  {
   "cell_type": "code",
   "execution_count": null,
   "id": "646ea3f6",
   "metadata": {},
   "outputs": [],
   "source": []
  },
  {
   "cell_type": "code",
   "execution_count": null,
   "id": "6047ae89",
   "metadata": {},
   "outputs": [],
   "source": []
  },
  {
   "cell_type": "code",
   "execution_count": null,
   "id": "3bfa1aa0",
   "metadata": {},
   "outputs": [],
   "source": []
  },
  {
   "cell_type": "code",
   "execution_count": null,
   "id": "38edecd8",
   "metadata": {},
   "outputs": [],
   "source": []
  },
  {
   "cell_type": "code",
   "execution_count": null,
   "id": "2961dee9",
   "metadata": {},
   "outputs": [],
   "source": []
  },
  {
   "cell_type": "code",
   "execution_count": null,
   "id": "e8f1954d",
   "metadata": {},
   "outputs": [],
   "source": []
  },
  {
   "cell_type": "code",
   "execution_count": null,
   "id": "9d67b555",
   "metadata": {},
   "outputs": [],
   "source": []
  },
  {
   "cell_type": "code",
   "execution_count": null,
   "id": "61787092",
   "metadata": {},
   "outputs": [],
   "source": []
  },
  {
   "cell_type": "code",
   "execution_count": null,
   "id": "b17bc054",
   "metadata": {},
   "outputs": [],
   "source": []
  },
  {
   "cell_type": "code",
   "execution_count": null,
   "id": "7e378f85",
   "metadata": {},
   "outputs": [],
   "source": []
  }
 ],
 "metadata": {
  "kernelspec": {
   "display_name": "Python 3 (ipykernel)",
   "language": "python",
   "name": "python3"
  },
  "language_info": {
   "codemirror_mode": {
    "name": "ipython",
    "version": 3
   },
   "file_extension": ".py",
   "mimetype": "text/x-python",
   "name": "python",
   "nbconvert_exporter": "python",
   "pygments_lexer": "ipython3",
   "version": "3.11.4"
  }
 },
 "nbformat": 4,
 "nbformat_minor": 5
}
